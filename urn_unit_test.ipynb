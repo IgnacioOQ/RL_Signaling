{
 "cells": [
  {
   "cell_type": "code",
   "execution_count": null,
   "metadata": {},
   "outputs": [],
   "source": [
    "from imports import *\n",
    "from utils import *\n",
    "from agents import UrnAgent\n",
    "from environment import MultiAgentEnv\n",
    "from simulation_functions import simulation_function\n",
    "\n",
    "n_agents = 2\n",
    "n_features = 2\n",
    "agents_observed_variables = {0:[0],1:[1]}\n",
    "n_signaling_actions = 2\n",
    "n_final_actions = 4\n",
    "\n",
    "# n_agents = 2\n",
    "# n_features = 3\n",
    "# agents_observed_variables = {0:[0,1],1:[1,2]}\n",
    "# n_signaling_actions = 4\n",
    "# n_final_actions = 8\n",
    "\n",
    "randomcannonical_game = {}\n",
    "for i in range(n_agents):\n",
    "  randomcannonical_game[i] = create_random_canonical_game(n_features,n_final_actions,n=1,m=0)\n",
    "\n",
    "with_signals, full_information = True, False\n",
    "\n",
    "env = MultiAgentEnv(n_agents=n_agents, n_features=n_features,\n",
    "                  n_signaling_actions=n_signaling_actions,\n",
    "                  n_final_actions=n_final_actions,\n",
    "                  full_information = full_information,\n",
    "                  game_dicts=randomcannonical_game,\n",
    "                  observed_variables = agents_observed_variables)\n",
    "\n",
    "signal_usage, rewards_history, signal_information_history, urn_histories,nature_history = simulation_function(n_agents=n_agents,\n",
    "                      n_features=n_features, n_signaling_actions=n_signaling_actions, n_final_actions=n_final_actions,\n",
    "                      n_episodes=10000, with_signals = with_signals,\n",
    "                      plot=True,env=env,initialize = False, verbose=False)"
   ]
  }
 ],
 "metadata": {
  "kernelspec": {
   "display_name": "Python 3",
   "language": "python",
   "name": "python3"
  },
  "language_info": {
   "codemirror_mode": {
    "name": "ipython",
    "version": 3
   },
   "file_extension": ".py",
   "mimetype": "text/x-python",
   "name": "python",
   "nbconvert_exporter": "python",
   "pygments_lexer": "ipython3",
   "version": "3.10.7"
  }
 },
 "nbformat": 4,
 "nbformat_minor": 2
}
