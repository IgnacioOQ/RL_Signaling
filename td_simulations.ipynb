{
 "cells": [
  {
   "cell_type": "markdown",
   "metadata": {},
   "source": [
    "# Setup"
   ]
  },
  {
   "cell_type": "code",
   "execution_count": null,
   "metadata": {},
   "outputs": [],
   "source": [
    "from imports import *\n",
    "from utils import *\n",
    "from agents import UrnAgent, QLearningAgent, TDLearningAgent\n",
    "from environment import NetMultiAgentEnv, TempNetMultiAgentEnv\n",
    "from simulation_function import simulation_function, temp_simulation_function"
   ]
  },
  {
   "cell_type": "markdown",
   "metadata": {},
   "source": [
    "# Cannonical Model\n",
    "\n",
    "- World States: Two binary variables X, Y\n",
    "- agents_observed_variables = {0:[0],1:[1]}\n",
    "- Random Cannonical Games\n",
    "- n_features = 2 \n",
    "- n_signaling_actions = 2 \n",
    "- n_final_actions = 4 "
   ]
  },
  {
   "cell_type": "markdown",
   "metadata": {},
   "source": []
  }
 ],
 "metadata": {
  "kernelspec": {
   "display_name": "Python 3",
   "language": "python",
   "name": "python3"
  },
  "language_info": {
   "name": "python",
   "version": "3.11.11"
  }
 },
 "nbformat": 4,
 "nbformat_minor": 2
}
